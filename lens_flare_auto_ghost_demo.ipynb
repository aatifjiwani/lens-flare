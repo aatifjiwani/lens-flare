{
 "cells": [
  {
   "cell_type": "code",
   "execution_count": 74,
   "metadata": {},
   "outputs": [],
   "source": [
    "import numpy as np"
   ]
  },
  {
   "cell_type": "code",
   "execution_count": 75,
   "metadata": {},
   "outputs": [],
   "source": [
    "# trace ray with no reflection \n",
    "# different r should give the same value as long as the sensor plane is at the focus point for the lens\n",
    "# different theta should change it linearly\n",
    "\n",
    "# ideas: keep this part in python and integrate w/ cpp?\n",
    "\n",
    "def T(d):\n",
    "    return np.matrix([[1, d], [0, 1]])\n",
    "    \n",
    "def R(ri, n1, n2):\n",
    "    return np.matrix([[1, 0], [(n1-n2)/(n2*ri), n1/n2]])\n",
    "    \n",
    "def L(ri):\n",
    "    return np.matrix([[1, 0], [2/ri, 1]])\n",
    "\n",
    "pupil_height=12.3\n",
    "\n",
    "R1 = R(30.810, 1.000, 1.652)\n",
    "T1 = T(7.700)\n",
    "L1 = L(1.652)\n",
    "\n",
    "R2 = R(-89.350, 1.652, 1.603)\n",
    "T2 = T(1.850)\n",
    "L2 = L(1.603)\n",
    "\n",
    "R3 = R(580.380, 1.603, 1.000)\n",
    "T3 = T(3.520)\n",
    "L3 = L(1)\n",
    "\n",
    "R4 = R(-80.630, 1.000, 1.643)\n",
    "T4 = T(1.850)\n",
    "L4 = L(1.643)\n",
    "\n",
    "R5 = R(28.340, 1.643, 1.000)\n",
    "T5 = T(4.180)\n",
    "L5 = L(1)\n",
    "\n",
    "# now, we've reached the aperature plane\n",
    "# height = 11.6\n",
    "T6 = T(3.000)\n",
    "\n",
    "R7 = np.matrix([[1, 0], [0, 1.000/1.581]])\n",
    "T7 = T(1.850)\n",
    "L7 = L(1.581)\n",
    "\n",
    "R8 = R(32.190, 1.581, 1.694)\n",
    "T8 = T(7.270)\n",
    "L8 = L(1.694)\n",
    "\n",
    "R9 = R(-52.990, 1.694, 1)\n",
    "T9 = T(81.320)\n",
    "L9 = L(1)\n",
    "\n",
    "def trace_ray(r, theta):\n",
    "    r = np.array([r, theta])\n",
    "\n",
    "    Ma = T5.dot(R5).dot(T4).dot(R4).dot(T3).dot(R3).dot(T2).dot(R2).dot(T1).dot(R1)\n",
    "    Ms = T9.dot(R9).dot(T8).dot(R8).dot(T7).dot(R7).dot(T6)\n",
    "    \n",
    "    return Ms.dot(Ma).dot(r)\n",
    "    \n",
    "def trace_ray_with_ghost(r, theta):\n",
    "    r = np.array([r, theta])\n",
    "    \n",
    "    R3_inv = np.linalg.inv(R3)\n",
    "    L2_inv = np.linalg.inv(L2)\n",
    " \n",
    "\n",
    "    M1 = T3.dot(R3).dot(T2).dot(R2).dot(T1).dot(R1)\n",
    "    Bounce = T2.dot(L2_inv).dot(T2).dot(R3_inv).dot(T3).dot(L4)\n",
    "    M2 = T5.dot(R5).dot(T4).dot(R4).dot(T3).dot(R3)\n",
    "    Ms = T9.dot(R9).dot(T8).dot(R8).dot(T7).dot(R7).dot(T6)\n",
    "    \n",
    "    return Ms.dot(M2).dot(Bounce).dot(M1).dot(r)\n",
    "\n",
    "def trace_ray_with_ghost_2(r, theta):\n",
    "    r = np.array([r, theta])\n",
    "    \n",
    "    R3_inv = np.linalg.inv(R3)\n",
    "    L1_inv = np.linalg.inv(L1)\n",
    "    R2_inv = np.linalg.inv(R2)\n",
    " \n",
    "\n",
    "    M1 = T3.dot(R3).dot(T2).dot(R2).dot(T1).dot(R1)\n",
    "    # changed t2 to t1\n",
    "    Bounce = T1.dot(L1_inv).dot(T1).dot(R2_inv).dot(T2).dot(R3_inv).dot(T3).dot(L4)\n",
    "    # \n",
    "    M2 = T5.dot(R5).dot(T4).dot(R4).dot(T3).dot(R3).dot(T2).dot(R2)\n",
    "    Ms = T9.dot(R9).dot(T8).dot(R8).dot(T7).dot(R7).dot(T6)\n",
    "    \n",
    "    return Ms.dot(M2).dot(Bounce).dot(M1).dot(r)"
   ]
  },
  {
   "cell_type": "code",
   "execution_count": 76,
   "metadata": {},
   "outputs": [
    {
     "name": "stdout",
     "output_type": "stream",
     "text": [
      "[[-10424.52563746    -99.65643518]]\n",
      "[[-22351.43750574   -201.59049826]]\n",
      "[[-22560.88216938   -203.47951165]]\n",
      "[[-22793.5984623    -205.57841542]]\n",
      "[[-23026.31475523   -207.67731919]]\n"
     ]
    }
   ],
   "source": [
    "# different ghosts should have different sizes\n",
    "print(trace_ray_with_ghost(12.3, 0.001))\n",
    "print(trace_ray_with_ghost_2(12.3, 0.001))\n",
    "# changing theta\n",
    "print(trace_ray_with_ghost_2(12.3, 0.01))\n",
    "print(trace_ray_with_ghost_2(12.3, 0.02))\n",
    "print(trace_ray_with_ghost_2(12.3, 0.03))"
   ]
  },
  {
   "cell_type": "code",
   "execution_count": 77,
   "metadata": {},
   "outputs": [],
   "source": [
    "# auto generations & 1-indexing\n",
    "Rs = [None, R1, R2, R3, R4, R5, None, R7, R8, R9]\n",
    "Ts = [None, T1, T2, T3, T4, T5, T6, T7, T8, T9]\n",
    "Ls = [None, L1, L2, L3, L4, L5, None, L7, L8, L9]\n",
    "\n",
    "def trace_ray_auto(r, theta, i, j):\n",
    "    rv = np.array([r, theta]).reshape(1, -1).T\n",
    "    \n",
    "    # forward through j-1\n",
    "    for k in range(1, j):\n",
    "        # print(k, 'rv', rv, rv.shape)\n",
    "        rv = Ts[k].dot(Rs[k]).dot(rv)\n",
    "    \n",
    "    # reflect off of Lj\n",
    "    rv = Ls[j].dot(rv)\n",
    "    \n",
    "    # Inverse\n",
    "    for k in range(i+1, j-2, -1):\n",
    "        rv = np.linalg.inv(Rs[k]).dot(Ts[k]).dot(rv)\n",
    "    \n",
    "    rv = Ts[i].dot(np.linalg.inv(Ls[i])).dot(Ts[i]).dot(rv)\n",
    "    \n",
    "    for k in range(i+1, 10):\n",
    "        if k == 6:\n",
    "            # crossing the aperture!\n",
    "            rv = Ts[k].dot(rv)\n",
    "            continue\n",
    "        rv = Ts[k].dot(Rs[k]).dot(rv)\n",
    "    \n",
    "    return rv"
   ]
  },
  {
   "cell_type": "code",
   "execution_count": 78,
   "metadata": {},
   "outputs": [
    {
     "name": "stdout",
     "output_type": "stream",
     "text": [
      "[[-10424.52563746]\n",
      " [   -99.65643518]]\n",
      "[[-10424.52563746    -99.65643518]]\n",
      "[[-9212.73479393]\n",
      " [  -88.07198507]]\n",
      "[[-9212.73479393   -88.07198507]]\n"
     ]
    }
   ],
   "source": [
    "print(trace_ray_auto(12.3, 0.001, 2, 4))\n",
    "print(trace_ray_with_ghost(12.3, 0.001))\n",
    "\n",
    "print(trace_ray_auto(10.5, 0.03, 2, 4))\n",
    "print(trace_ray_with_ghost(10.5, 0.03))"
   ]
  },
  {
   "cell_type": "code",
   "execution_count": 79,
   "metadata": {},
   "outputs": [
    {
     "name": "stdout",
     "output_type": "stream",
     "text": [
      "[[-18368.33798444]\n",
      " [  -165.71932704]]\n",
      "[[-23026.31475523   -207.67731919]]\n"
     ]
    }
   ],
   "source": [
    "print(trace_ray_auto(12.3, 0.03, 1, 4))\n",
    "print(trace_ray_with_ghost_2(12.3, 0.03))"
   ]
  },
  {
   "cell_type": "code",
   "execution_count": null,
   "metadata": {},
   "outputs": [],
   "source": []
  },
  {
   "cell_type": "code",
   "execution_count": null,
   "metadata": {},
   "outputs": [],
   "source": []
  }
 ],
 "metadata": {
  "kernelspec": {
   "display_name": "Python 3",
   "language": "python",
   "name": "python3"
  },
  "language_info": {
   "codemirror_mode": {
    "name": "ipython",
    "version": 3
   },
   "file_extension": ".py",
   "mimetype": "text/x-python",
   "name": "python",
   "nbconvert_exporter": "python",
   "pygments_lexer": "ipython3",
   "version": "3.7.3"
  },
  "toc": {
   "base_numbering": 1,
   "nav_menu": {},
   "number_sections": true,
   "sideBar": true,
   "skip_h1_title": false,
   "title_cell": "Table of Contents",
   "title_sidebar": "Contents",
   "toc_cell": false,
   "toc_position": {},
   "toc_section_display": true,
   "toc_window_display": false
  }
 },
 "nbformat": 4,
 "nbformat_minor": 2
}

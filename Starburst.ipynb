{
 "cells": [
  {
   "cell_type": "code",
   "execution_count": 2,
   "metadata": {},
   "outputs": [],
   "source": [
    "import numpy as np\n",
    "import matplotlib.pyplot as plt"
   ]
  },
  {
   "cell_type": "markdown",
   "metadata": {},
   "source": [
    "## Pupil Function"
   ]
  },
  {
   "cell_type": "code",
   "execution_count": 3,
   "metadata": {},
   "outputs": [],
   "source": [
    "def create_circular_mask(h, w, center=None, radius=None):\n",
    "\n",
    "    if center is None: # use the middle of the image\n",
    "        center = (int(w/2), int(h/2))\n",
    "    if radius is None: # use the smallest distance between the center and image walls\n",
    "        radius = min(center[0], center[1], w-center[0], h-center[1])\n",
    "\n",
    "    Y, X = np.ogrid[:h, :w]\n",
    "    dist_from_center = np.sqrt((X - center[0])**2 + (Y-center[1])**2)\n",
    "\n",
    "    mask = dist_from_center <= radius\n",
    "    return mask"
   ]
  },
  {
   "cell_type": "code",
   "execution_count": 118,
   "metadata": {},
   "outputs": [
    {
     "name": "stdout",
     "output_type": "stream",
     "text": [
      "False True\n"
     ]
    },
    {
     "data": {
      "text/plain": [
       "<matplotlib.colorbar.Colorbar at 0x7f58f61580f0>"
      ]
     },
     "execution_count": 118,
     "metadata": {},
     "output_type": "execute_result"
    },
    {
     "data": {
      "image/png": "[encoded data removed]",
      "text/plain": [
       "<Figure size 432x288 with 2 Axes>"
      ]
     },
     "metadata": {
      "needs_background": "light"
     },
     "output_type": "display_data"
    }
   ],
   "source": [
    "aperature_function = create_circular_mask(250, 250, radius=5)\n",
    "# aperature_function = np.zeros((250,250))\n",
    "# aperature_function[100:150, 120:130] = 1\n",
    "\n",
    "print(np.min(aperature_function), np.max(aperature_function))\n",
    "plt.imshow(aperature_function.astype(np.uint8))\n",
    "plt.colorbar()"
   ]
  },
  {
   "cell_type": "code",
   "execution_count": 119,
   "metadata": {},
   "outputs": [
    {
     "data": {
      "text/plain": [
       "<matplotlib.colorbar.Colorbar at 0x7f58f60f4c18>"
      ]
     },
     "execution_count": 119,
     "metadata": {},
     "output_type": "execute_result"
    },
    {
     "data": {
      "image/png": "[encoded data removed]",
      "text/plain": [
       "<Figure size 432x288 with 2 Axes>"
      ]
     },
     "metadata": {
      "needs_background": "light"
     },
     "output_type": "display_data"
    }
   ],
   "source": [
    "circle_fourier = np.abs(np.fft.fft2(aperature_function.astype(float))) ** 2\n",
    "plt.imshow(np.fft.fftshift(circle_fourier))\n",
    "plt.colorbar()"
   ]
  },
  {
   "cell_type": "code",
   "execution_count": 10,
   "metadata": {},
   "outputs": [
    {
     "data": {
      "text/plain": [
       "array([[2., 2.],\n",
       "       [2., 2.]])"
      ]
     },
     "execution_count": 10,
     "metadata": {},
     "output_type": "execute_result"
    }
   ],
   "source": [
    "a = np.ones((2,2,2))\n",
    "np.linalg.norm(a, ord=1, axis=-1)"
   ]
  },
  {
   "cell_type": "code",
   "execution_count": 34,
   "metadata": {},
   "outputs": [],
   "source": [
    "origin = (200, 100)\n",
    "depth = 300\n",
    "\n",
    "def create_phase_matrix(height, width, origin, depth):\n",
    "    x = np.arange(0, height, 1)\n",
    "    y = np.arange(0, width,  1)\n",
    "    \n",
    "    xv, yv = np.meshgrid(x, y)\n",
    "    zv = np.zeros_like(xv)\n",
    "    \n",
    "    grid = np.stack((xv, yv, zv), axis=-1)\n",
    "    \n",
    "    light_pos = np.array([*origin, depth])\n",
    "    \n",
    "    norms = np.linalg.norm(light_pos - grid, ord=2, axis=-1)\n",
    "    assert norms.shape == (height, width)\n",
    "    \n",
    "    ratio = depth / norms\n",
    "    \n",
    "    phase = np.arcsin(ratio) # in interval [-pi/2, pi/2]\n",
    "    return phase # in interval [0, pi]\n",
    "\n",
    "#     return light_pos - grid\n",
    "    "
   ]
  },
  {
   "cell_type": "code",
   "execution_count": 29,
   "metadata": {},
   "outputs": [
    {
     "data": {
      "text/plain": [
       "array([[[ 1,  1,  3],\n",
       "        [ 0,  1,  3],\n",
       "        [-1,  1,  3],\n",
       "        [-2,  1,  3]],\n",
       "\n",
       "       [[ 1,  0,  3],\n",
       "        [ 0,  0,  3],\n",
       "        [-1,  0,  3],\n",
       "        [-2,  0,  3]],\n",
       "\n",
       "       [[ 1, -1,  3],\n",
       "        [ 0, -1,  3],\n",
       "        [-1, -1,  3],\n",
       "        [-2, -1,  3]],\n",
       "\n",
       "       [[ 1, -2,  3],\n",
       "        [ 0, -2,  3],\n",
       "        [-1, -2,  3],\n",
       "        [-2, -2,  3]]])"
      ]
     },
     "execution_count": 29,
     "metadata": {},
     "output_type": "execute_result"
    }
   ],
   "source": [
    "create_phase_matrix(4,4,(1,1),1)"
   ]
  },
  {
   "cell_type": "code",
   "execution_count": 122,
   "metadata": {},
   "outputs": [],
   "source": [
    "phase = create_phase_matrix(250, 250,(62, 62),1)\n",
    "phase = np.exp(phase * -1j)\n",
    "pupil_func = aperature_function.astype(float) * phase\n"
   ]
  },
  {
   "cell_type": "code",
   "execution_count": 126,
   "metadata": {},
   "outputs": [
    {
     "data": {
      "text/plain": [
       "<matplotlib.colorbar.Colorbar at 0x7f58f5db22e8>"
      ]
     },
     "execution_count": 126,
     "metadata": {},
     "output_type": "execute_result"
    },
    {
     "data": {
      "image/png": "[encoded data removed]",
      "text/plain": [
       "<Figure size 720x720 with 2 Axes>"
      ]
     },
     "metadata": {
      "needs_background": "light"
     },
     "output_type": "display_data"
    }
   ],
   "source": [
    "pupil_fourier = np.absolute(np.fft.fft2(pupil_func))**2\n",
    "pupil_fourier = np.fft.fftshift(pupil_fourier)\n",
    "\n",
    "plt.figure(figsize=(10,10))\n",
    "plt.imshow(pupil_fourier, cmap='gray')\n",
    "plt.colorbar()"
   ]
  },
  {
   "cell_type": "markdown",
   "metadata": {},
   "source": [
    "## Spectral Response Function"
   ]
  },
  {
   "cell_type": "code",
   "execution_count": 55,
   "metadata": {},
   "outputs": [],
   "source": [
    "from scipy.stats import norm"
   ]
  },
  {
   "cell_type": "code",
   "execution_count": 56,
   "metadata": {},
   "outputs": [],
   "source": [
    "wavelengths = np.arange(380, 745, 5)"
   ]
  },
  {
   "cell_type": "code",
   "execution_count": 57,
   "metadata": {},
   "outputs": [],
   "source": [
    "mu_R = np.random.uniform(620, 640, 1)\n",
    "mu_G = np.random.uniform(540, 560, 1)\n",
    "mu_B = np.random.uniform(460, 480, 1)\n",
    "\n",
    "sigma_R = np.random.uniform(50, 60, 1)\n",
    "sigma_G = np.random.uniform(50, 60, 1)\n",
    "sigma_B = np.random.uniform(50, 60, 1)"
   ]
  },
  {
   "cell_type": "code",
   "execution_count": 58,
   "metadata": {},
   "outputs": [
    {
     "data": {
      "text/plain": [
       "<matplotlib.legend.Legend at 0x7f58e6ef5f98>"
      ]
     },
     "execution_count": 58,
     "metadata": {},
     "output_type": "execute_result"
    },
    {
     "data": {
      "image/png": "[encoded data removed]",
      "text/plain": [
       "<Figure size 432x288 with 1 Axes>"
      ]
     },
     "metadata": {
      "needs_background": "light"
     },
     "output_type": "display_data"
    }
   ],
   "source": [
    "# Example SRF\n",
    "plt.plot(wavelengths, norm.pdf(wavelengths, mu_R, sigma_R), color='r', label='R-Channel SRF')\n",
    "plt.plot(wavelengths, norm.pdf(wavelengths, mu_G, sigma_G), color='g', label='G-Channel SRF')\n",
    "plt.plot(wavelengths, norm.pdf(wavelengths, mu_B, sigma_B), color='b', label='B-Channel SRF')\n",
    "plt.legend()"
   ]
  },
  {
   "cell_type": "code",
   "execution_count": 59,
   "metadata": {},
   "outputs": [],
   "source": [
    "SRF_R = norm.pdf(wavelengths, mu_R, sigma_R)[None, :]\n",
    "SRF_G = norm.pdf(wavelengths, mu_G, sigma_G)[None, :]\n",
    "SRF_B = norm.pdf(wavelengths, mu_B, sigma_B)[None, :]"
   ]
  },
  {
   "cell_type": "code",
   "execution_count": 60,
   "metadata": {},
   "outputs": [
    {
     "data": {
      "text/plain": [
       "(3, 73)"
      ]
     },
     "execution_count": 60,
     "metadata": {},
     "output_type": "execute_result"
    }
   ],
   "source": [
    "SRF = np.concatenate((SRF_R, SRF_G, SRF_B), axis=0)\n",
    "SRF.shape"
   ]
  },
  {
   "cell_type": "markdown",
   "metadata": {},
   "source": [
    "## Combining"
   ]
  },
  {
   "cell_type": "code",
   "execution_count": 138,
   "metadata": {},
   "outputs": [],
   "source": [
    "psf = np.repeat(np.expand_dims(pupil_fourier, axis=0), 73, axis=0)\n",
    "psf = psf.reshape(73, -1)"
   ]
  },
  {
   "cell_type": "code",
   "execution_count": 139,
   "metadata": {},
   "outputs": [
    {
     "data": {
      "text/plain": [
       "(73, 62500)"
      ]
     },
     "execution_count": 139,
     "metadata": {},
     "output_type": "execute_result"
    }
   ],
   "source": [
    "psf.shape"
   ]
  },
  {
   "cell_type": "code",
   "execution_count": 148,
   "metadata": {},
   "outputs": [],
   "source": [
    "psf_rgb = (SRF @ psf)"
   ]
  },
  {
   "cell_type": "code",
   "execution_count": 149,
   "metadata": {},
   "outputs": [],
   "source": [
    "psf_rgb = psf_rgb.reshape(3, 250, 250)"
   ]
  },
  {
   "cell_type": "code",
   "execution_count": 150,
   "metadata": {},
   "outputs": [],
   "source": [
    "psf_rgb = psf_rgb / np.max(psf_rgb)"
   ]
  },
  {
   "cell_type": "code",
   "execution_count": 132,
   "metadata": {},
   "outputs": [
    {
     "data": {
      "text/plain": [
       "array([[[0.00739027, 0.00732822, 0.00714356, ..., 0.00684076,\n",
       "         0.00714183, 0.00732734],\n",
       "        [0.00732822, 0.00726657, 0.00708307, ..., 0.00678219,\n",
       "         0.00708135, 0.00726569],\n",
       "        [0.00714356, 0.00708307, 0.00690305, ..., 0.00660791,\n",
       "         0.00690136, 0.00708221],\n",
       "        ...,\n",
       "        [0.00684076, 0.00678219, 0.00660791, ..., 0.00632224,\n",
       "         0.00660627, 0.00678136],\n",
       "        [0.00714183, 0.00708135, 0.00690136, ..., 0.00660627,\n",
       "         0.00689967, 0.00708049],\n",
       "        [0.00732734, 0.00726569, 0.00708221, ..., 0.00678136,\n",
       "         0.00708049, 0.00726481]],\n",
       "\n",
       "       [[0.00746837, 0.00740567, 0.00721906, ..., 0.00691306,\n",
       "         0.00721731, 0.00740478],\n",
       "        [0.00740567, 0.00734337, 0.00715793, ..., 0.00685387,\n",
       "         0.00715619, 0.00734248],\n",
       "        [0.00721906, 0.00715793, 0.00697601, ..., 0.00667775,\n",
       "         0.0069743 , 0.00715706],\n",
       "        ...,\n",
       "        [0.00691306, 0.00685387, 0.00667775, ..., 0.00638906,\n",
       "         0.00667609, 0.00685303],\n",
       "        [0.00721731, 0.00715619, 0.0069743 , ..., 0.00667609,\n",
       "         0.00697259, 0.00715532],\n",
       "        [0.00740478, 0.00734248, 0.00715706, ..., 0.00685303,\n",
       "         0.00715532, 0.00734159]],\n",
       "\n",
       "       [[0.00708491, 0.00702543, 0.0068484 , ..., 0.00655811,\n",
       "         0.00684673, 0.00702458],\n",
       "        [0.00702543, 0.00696632, 0.0067904 , ..., 0.00650196,\n",
       "         0.00678875, 0.00696548],\n",
       "        [0.0068484 , 0.0067904 , 0.00661782, ..., 0.00633488,\n",
       "         0.0066162 , 0.00678958],\n",
       "        ...,\n",
       "        [0.00655811, 0.00650196, 0.00633488, ..., 0.00606101,\n",
       "         0.00633331, 0.00650116],\n",
       "        [0.00684673, 0.00678875, 0.0066162 , ..., 0.00633331,\n",
       "         0.00661458, 0.00678793],\n",
       "        [0.00702458, 0.00696548, 0.00678958, ..., 0.00650116,\n",
       "         0.00678793, 0.00696463]]])"
      ]
     },
     "execution_count": 132,
     "metadata": {},
     "output_type": "execute_result"
    }
   ],
   "source": [
    "psf_rgb"
   ]
  },
  {
   "cell_type": "code",
   "execution_count": 142,
   "metadata": {},
   "outputs": [
    {
     "data": {
      "text/plain": [
       "array([[[9.69293707, 9.61156036, 9.36936278, ..., 8.97221555,\n",
       "         9.36708773, 9.61040083],\n",
       "        [9.61156036, 9.53069494, 9.29002411, ..., 8.89539727,\n",
       "         9.28776346, 9.52954271],\n",
       "        [9.36936278, 9.29002411, 9.05391222, ..., 8.66681099,\n",
       "         9.05169453, 9.28889367],\n",
       "        ...,\n",
       "        [8.97221555, 8.89539727, 8.66681099, ..., 8.29213174,\n",
       "         8.66466422, 8.89430279],\n",
       "        [9.36708773, 9.28776346, 9.05169453, ..., 8.66466422,\n",
       "         9.04947724, 9.28663322],\n",
       "        [9.61040083, 9.52954271, 9.28889367, ..., 8.89430279,\n",
       "         9.28663322, 9.52839058]],\n",
       "\n",
       "       [[9.79537898, 9.71314222, 9.46838492, ..., 9.06704036,\n",
       "         9.46608583, 9.71197044],\n",
       "        [9.71314222, 9.63142216, 9.38820775, ..., 8.9894102 ,\n",
       "         9.3859232 , 9.63025775],\n",
       "        [9.46838492, 9.38820775, 9.14960045, ..., 8.75840807,\n",
       "         9.14735933, 9.38706536],\n",
       "        ...,\n",
       "        [9.06704036, 8.9894102 , 8.75840807, ..., 8.37976893,\n",
       "         8.75623861, 8.98830416],\n",
       "        [9.46608583, 9.3859232 , 9.14735933, ..., 8.75623861,\n",
       "         9.14511861, 9.38478102],\n",
       "        [9.71197044, 9.63025775, 9.38706536, ..., 8.98830416,\n",
       "         9.38478102, 9.62909344]],\n",
       "\n",
       "       [[9.29243306, 9.21441877, 8.98222858, ..., 8.60149115,\n",
       "         8.98004754, 9.21330715],\n",
       "        [9.21441877, 9.13689464, 8.90616813, ..., 8.52784693,\n",
       "         8.90400088, 9.13579001],\n",
       "        [8.98222858, 8.90616813, 8.67981218, ..., 8.30870565,\n",
       "         8.67768612, 8.90508439],\n",
       "        ...,\n",
       "        [8.60149115, 8.52784693, 8.30870565, ..., 7.94950783,\n",
       "         8.30664758, 8.52679768],\n",
       "        [8.98004754, 8.90400088, 8.67768612, ..., 8.30664758,\n",
       "         8.67556045, 8.90291735],\n",
       "        [9.21330715, 9.13579001, 8.90508439, ..., 8.52679768,\n",
       "         8.90291735, 9.13468549]]])"
      ]
     },
     "execution_count": 142,
     "metadata": {},
     "output_type": "execute_result"
    }
   ],
   "source": [
    "psf_rgb"
   ]
  },
  {
   "cell_type": "code",
   "execution_count": 146,
   "metadata": {},
   "outputs": [
    {
     "data": {
      "text/plain": [
       "array([[28.78074912, 28.53912135, 27.81997628, ..., 26.64074707,\n",
       "        27.81322111, 28.53567842],\n",
       "       [28.53912135, 28.29901173, 27.58439999, ..., 26.4126544 ,\n",
       "        27.57768755, 28.29559047],\n",
       "       [27.81997628, 27.58439999, 26.88332485, ..., 25.73392471,\n",
       "        26.87673997, 27.58104342],\n",
       "       ...,\n",
       "       [26.64074707, 26.4126544 , 25.73392471, ..., 24.62140849,\n",
       "        25.7275504 , 26.40940463],\n",
       "       [27.81322111, 27.57768755, 26.87673997, ..., 25.7275504 ,\n",
       "        26.8701563 , 27.57433159],\n",
       "       [28.53567842, 28.29559047, 27.58104342, ..., 26.40940463,\n",
       "        27.57433159, 28.29216951]])"
      ]
     },
     "execution_count": 146,
     "metadata": {},
     "output_type": "execute_result"
    }
   ],
   "source": [
    "psf_rgb.sum(axis=0)"
   ]
  },
  {
   "cell_type": "code",
   "execution_count": 152,
   "metadata": {},
   "outputs": [
    {
     "data": {
      "text/plain": [
       "<matplotlib.colorbar.Colorbar at 0x7f58f593ac88>"
      ]
     },
     "execution_count": 152,
     "metadata": {},
     "output_type": "execute_result"
    },
    {
     "data": {
      "image/png": "[encoded data removed]",
      "text/plain": [
       "<Figure size 432x288 with 2 Axes>"
      ]
     },
     "metadata": {
      "needs_background": "light"
     },
     "output_type": "display_data"
    }
   ],
   "source": [
    "plt.imshow(np.transpose(psf_rgb, (1, 2, 0)))\n",
    "plt.colorbar()"
   ]
  },
  {
   "cell_type": "code",
   "execution_count": null,
   "metadata": {},
   "outputs": [],
   "source": []
  }
 ],
 "metadata": {
  "kernelspec": {
   "display_name": "lbl",
   "language": "python",
   "name": "lbl"
  },
  "language_info": {
   "codemirror_mode": {
    "name": "ipython",
    "version": 3
   },
   "file_extension": ".py",
   "mimetype": "text/x-python",
   "name": "python",
   "nbconvert_exporter": "python",
   "pygments_lexer": "ipython3",
   "version": "3.6.9"
  }
 },
 "nbformat": 4,
 "nbformat_minor": 4
}

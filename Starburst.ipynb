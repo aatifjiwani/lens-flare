{
 "cells": [
  {
   "cell_type": "code",
   "execution_count": 480,
   "metadata": {},
   "outputs": [],
   "source": [
    "import numpy as np\n",
    "import matplotlib.pyplot as plt"
   ]
  },
  {
   "cell_type": "code",
   "execution_count": 1,
   "metadata": {},
   "outputs": [],
   "source": [
    "IMAGE_SIZE=1000\n",
    "APERTURE_RADIUS=100\n",
    "LIGHT_SOURCE_ORIGIN=(62, 62)"
   ]
  },
  {
   "cell_type": "markdown",
   "metadata": {},
   "source": [
    "## Pupil Function"
   ]
  },
  {
   "cell_type": "code",
   "execution_count": 2,
   "metadata": {},
   "outputs": [],
   "source": [
    "def create_circular_mask(h, w, center=None, radius=None):\n",
    "\n",
    "    if center is None: # use the middle of the image\n",
    "        center = (int(w/2), int(h/2))\n",
    "    if radius is None: # use the smallest distance between the center and image walls\n",
    "        radius = min(center[0], center[1], w-center[0], h-center[1])\n",
    "\n",
    "    Y, X = np.ogrid[:h, :w]\n",
    "    dist_from_center = np.sqrt((X - center[0])**2 + (Y-center[1])**2)\n",
    "\n",
    "    mask = dist_from_center <= radius\n",
    "    return mask"
   ]
  },
  {
   "cell_type": "code",
   "execution_count": 3,
   "metadata": {},
   "outputs": [],
   "source": [
    "# References:\n",
    "# https://github1s.com/greje656/PhysicallyBasedLensFlare/blob/master/Lens/starburst.hlsl\n",
    "# http://kmdouglass.github.io/posts/simple-pupil-function-calculations/\n",
    "def create_dirty_mask(h, w, center=None, radius=None):\n",
    "    if center is None: # use the middle of the image\n",
    "        center = (int(w/2), int(h/2))\n",
    "    if radius is None: # use the smallest distance between the center and image walls\n",
    "        radius = min(center[0], center[1], w-center[0], h-center[1])\n",
    "\n",
    "    Y, X = np.ogrid[:h, :w]\n",
    "    dist_from_center = np.sqrt((X - center[0])**2 + (Y-center[1])**2)\n",
    "\n",
    "    mask = dist_from_center <= radius\n",
    "\n",
    "    # count True's in each row of the mask\n",
    "    row_trues = np.array(list(map(lambda a: np.count_nonzero(a), mask)))\n",
    "    row_first_trues = np.array(list(map(lambda a: np.argmax(a), mask)))\n",
    "\n",
    "    rows_with_trues = np.array(list((i, t) for i, t in enumerate(row_trues) if t > 0))\n",
    "    row_idxs = rows_with_trues[:,0]\n",
    "    row_idxs_idxs = range(len(row_idxs))\n",
    "    row_num_trues = rows_with_trues[:,1]\n",
    "    # probability of each row based on # trues in that row\n",
    "    row_probs = row_num_trues / sum(row_num_trues)\n",
    "\n",
    "    num_dots = round(np.random.normal(APERTURE_RADIUS / 2, APERTURE_RADIUS / 30))\n",
    "    max_dot_radius = round(np.random.normal(APERTURE_RADIUS / 10, APERTURE_RADIUS / 40))\n",
    "\n",
    "    # add dot masks\n",
    "    for i in range(num_dots):\n",
    "        y_idx = np.random.choice(row_idxs_idxs, p=row_probs)\n",
    "        y = row_idxs[y_idx]\n",
    "        x = row_first_trues[y] + round(np.random.uniform(0, row_num_trues[y_idx] - 1))\n",
    "        r = round(np.random.uniform(0, max_dot_radius))\n",
    "        \n",
    "        dist_from_dot = np.sqrt((X - x)**2 + (Y - y)**2)\n",
    "        dot_mask = dist_from_dot <= r\n",
    "        # set False where dot exists\n",
    "        mask &= ~dot_mask\n",
    "\n",
    "    return mask"
   ]
  },
  {
   "cell_type": "code",
   "execution_count": 484,
   "metadata": {},
   "outputs": [
    {
     "data": {
      "text/plain": [
       "<matplotlib.colorbar.Colorbar at 0x7f98da19fd00>"
      ]
     },
     "execution_count": 484,
     "metadata": {},
     "output_type": "execute_result"
    },
    {
     "data": {
      "image/png": "[encoded data removed]",
      "text/plain": [
       "<Figure size 432x288 with 2 Axes>"
      ]
     },
     "metadata": {
      "needs_background": "light"
     },
     "output_type": "display_data"
    }
   ],
   "source": [
    "aperature_function = create_dirty_mask(IMAGE_SIZE, IMAGE_SIZE, radius=APERTURE_RADIUS)\n",
    "# aperature_function = np.zeros((IMAGE_SIZE,IMAGE_SIZE))\n",
    "# aperature_function[100:150, 120:130] = 1\n",
    "\n",
    "plt.imshow(aperature_function.astype(np.uint8))\n",
    "plt.colorbar()"
   ]
  },
  {
   "cell_type": "code",
   "execution_count": 499,
   "metadata": {},
   "outputs": [
    {
     "data": {
      "text/plain": [
       "<matplotlib.colorbar.Colorbar at 0x7f98deaa6a00>"
      ]
     },
     "execution_count": 499,
     "metadata": {},
     "output_type": "execute_result"
    },
    {
     "data": {
      "image/png": "[encoded data removed]",
      "text/plain": [
       "<Figure size 432x288 with 2 Axes>"
      ]
     },
     "metadata": {
      "needs_background": "light"
     },
     "output_type": "display_data"
    }
   ],
   "source": [
    "aperture = aperature_function.astype(float)\n",
    "psf_a = np.fft.fftshift(np.fft.fft2(np.fft.ifftshift(aperture))) * .01\n",
    "image = np.abs(psf_a)**2\n",
    "\n",
    "#circle_fourier = np.abs(np.fft.fft2(aperature_function.astype(float))) ** 2\n",
    "plt.imshow(image)\n",
    "plt.colorbar()"
   ]
  },
  {
   "cell_type": "code",
   "execution_count": 460,
   "metadata": {},
   "outputs": [
    {
     "data": {
      "text/plain": [
       "array([[2., 2.],\n",
       "       [2., 2.]])"
      ]
     },
     "execution_count": 460,
     "metadata": {},
     "output_type": "execute_result"
    }
   ],
   "source": [
    "a = np.ones((2,2,2))\n",
    "np.linalg.norm(a, ord=1, axis=-1)"
   ]
  },
  {
   "cell_type": "code",
   "execution_count": 461,
   "metadata": {},
   "outputs": [],
   "source": [
    "origin = (200, 100)\n",
    "depth = 300\n",
    "\n",
    "def create_phase_matrix(height, width, origin, depth):\n",
    "    x = np.arange(0, height, 1)\n",
    "    y = np.arange(0, width,  1)\n",
    "    \n",
    "    xv, yv = np.meshgrid(x, y)\n",
    "    zv = np.zeros_like(xv)\n",
    "    \n",
    "    grid = np.stack((xv, yv, zv), axis=-1)\n",
    "    \n",
    "    light_pos = np.array([*origin, depth])\n",
    "    \n",
    "    norms = np.linalg.norm(light_pos - grid, ord=2, axis=-1)\n",
    "    assert norms.shape == (height, width)\n",
    "    \n",
    "    ratio = depth / norms\n",
    "    \n",
    "    phase = np.arcsin(ratio) # in interval [-pi/2, pi/2]\n",
    "    return phase # in interval [0, pi]\n",
    "\n",
    "#     return light_pos - grid\n",
    "    "
   ]
  },
  {
   "cell_type": "code",
   "execution_count": 462,
   "metadata": {},
   "outputs": [
    {
     "data": {
      "text/plain": [
       "array([[0.61547971, 0.78539816, 0.61547971, 0.42053434],\n",
       "       [0.78539816, 1.57079633, 0.78539816, 0.46364761],\n",
       "       [0.61547971, 0.78539816, 0.61547971, 0.42053434],\n",
       "       [0.42053434, 0.46364761, 0.42053434, 0.33983691]])"
      ]
     },
     "execution_count": 462,
     "metadata": {},
     "output_type": "execute_result"
    }
   ],
   "source": [
    "create_phase_matrix(4,4,(1,1),1)"
   ]
  },
  {
   "cell_type": "code",
   "execution_count": 463,
   "metadata": {},
   "outputs": [],
   "source": [
    "phase = create_phase_matrix(IMAGE_SIZE, IMAGE_SIZE, LIGHT_SOURCE_ORIGIN, 1)\n",
    "phase = np.exp(phase * -1j)\n",
    "pupil_func = aperature_function.astype(float) * phase\n"
   ]
  },
  {
   "cell_type": "code",
   "execution_count": 464,
   "metadata": {},
   "outputs": [
    {
     "data": {
      "text/plain": [
       "<matplotlib.colorbar.Colorbar at 0x7f98d2e009d0>"
      ]
     },
     "execution_count": 464,
     "metadata": {},
     "output_type": "execute_result"
    },
    {
     "data": {
      "image/png": "[encoded data removed]",
      "text/plain": [
       "<Figure size 720x720 with 2 Axes>"
      ]
     },
     "metadata": {
      "needs_background": "light"
     },
     "output_type": "display_data"
    }
   ],
   "source": [
    "pupil_fourier = np.absolute(np.fft.fft2(pupil_func))**2\n",
    "pupil_fourier = np.fft.fftshift(pupil_fourier)\n",
    "\n",
    "plt.figure(figsize=(10,10))\n",
    "plt.imshow(pupil_fourier, cmap='gray')\n",
    "plt.colorbar()"
   ]
  },
  {
   "cell_type": "markdown",
   "metadata": {},
   "source": [
    "## Spectral Response Function"
   ]
  },
  {
   "cell_type": "code",
   "execution_count": 465,
   "metadata": {},
   "outputs": [],
   "source": [
    "from scipy.stats import norm"
   ]
  },
  {
   "cell_type": "code",
   "execution_count": 466,
   "metadata": {},
   "outputs": [],
   "source": [
    "wavelengths = np.arange(380, 745, 5)"
   ]
  },
  {
   "cell_type": "code",
   "execution_count": 467,
   "metadata": {},
   "outputs": [],
   "source": [
    "mu_R = np.random.uniform(620, 640, 1)\n",
    "mu_G = np.random.uniform(540, 560, 1)\n",
    "mu_B = np.random.uniform(460, 480, 1)\n",
    "\n",
    "sigma_R = np.random.uniform(50, 60, 1)\n",
    "sigma_G = np.random.uniform(50, 60, 1)\n",
    "sigma_B = np.random.uniform(50, 60, 1)"
   ]
  },
  {
   "cell_type": "code",
   "execution_count": 468,
   "metadata": {},
   "outputs": [
    {
     "data": {
      "text/plain": [
       "<matplotlib.legend.Legend at 0x7f98d2e41d60>"
      ]
     },
     "execution_count": 468,
     "metadata": {},
     "output_type": "execute_result"
    },
    {
     "data": {
      "image/png": "[encoded data removed]",
      "text/plain": [
       "<Figure size 432x288 with 1 Axes>"
      ]
     },
     "metadata": {
      "needs_background": "light"
     },
     "output_type": "display_data"
    }
   ],
   "source": [
    "# Example SRF\n",
    "plt.plot(wavelengths, norm.pdf(wavelengths, mu_R, sigma_R), color='r', label='R-Channel SRF')\n",
    "plt.plot(wavelengths, norm.pdf(wavelengths, mu_G, sigma_G), color='g', label='G-Channel SRF')\n",
    "plt.plot(wavelengths, norm.pdf(wavelengths, mu_B, sigma_B), color='b', label='B-Channel SRF')\n",
    "plt.legend()"
   ]
  },
  {
   "cell_type": "code",
   "execution_count": 469,
   "metadata": {},
   "outputs": [],
   "source": [
    "SRF_R = norm.pdf(wavelengths, mu_R, sigma_R)[None, :]\n",
    "SRF_G = norm.pdf(wavelengths, mu_G, sigma_G)[None, :]\n",
    "SRF_B = norm.pdf(wavelengths, mu_B, sigma_B)[None, :]"
   ]
  },
  {
   "cell_type": "code",
   "execution_count": 470,
   "metadata": {},
   "outputs": [
    {
     "data": {
      "text/plain": [
       "(3, 73)"
      ]
     },
     "execution_count": 470,
     "metadata": {},
     "output_type": "execute_result"
    }
   ],
   "source": [
    "SRF = np.concatenate((SRF_R, SRF_G, SRF_B), axis=0)\n",
    "SRF.shape"
   ]
  },
  {
   "cell_type": "markdown",
   "metadata": {},
   "source": [
    "## Combining"
   ]
  },
  {
   "cell_type": "code",
   "execution_count": 471,
   "metadata": {},
   "outputs": [],
   "source": [
    "psf = np.repeat(np.expand_dims(pupil_fourier, axis=0), 73, axis=0)\n",
    "psf = psf.reshape(73, -1)"
   ]
  },
  {
   "cell_type": "code",
   "execution_count": 472,
   "metadata": {},
   "outputs": [
    {
     "data": {
      "text/plain": [
       "(73, 1000000)"
      ]
     },
     "execution_count": 472,
     "metadata": {},
     "output_type": "execute_result"
    }
   ],
   "source": [
    "psf.shape"
   ]
  },
  {
   "cell_type": "code",
   "execution_count": 473,
   "metadata": {},
   "outputs": [],
   "source": [
    "psf_rgb = (SRF @ psf)"
   ]
  },
  {
   "cell_type": "code",
   "execution_count": 474,
   "metadata": {},
   "outputs": [],
   "source": [
    "psf_rgb = psf_rgb.reshape(3, IMAGE_SIZE, IMAGE_SIZE)"
   ]
  },
  {
   "cell_type": "code",
   "execution_count": 475,
   "metadata": {},
   "outputs": [],
   "source": [
    "psf_rgb = psf_rgb / np.max(psf_rgb)"
   ]
  },
  {
   "cell_type": "code",
   "execution_count": 476,
   "metadata": {},
   "outputs": [
    {
     "data": {
      "text/plain": [
       "array([[[5.62282953e-09, 1.60348678e-07, 5.22920943e-07, ...,\n",
       "         8.69130257e-07, 5.23079051e-07, 1.60501972e-07],\n",
       "        [4.08067150e-09, 1.62749842e-07, 4.47928981e-07, ...,\n",
       "         1.11201358e-06, 6.00945429e-07, 1.56509100e-07],\n",
       "        [3.14950136e-09, 1.80271260e-07, 4.37879538e-07, ...,\n",
       "         1.25227834e-06, 6.36699838e-07, 1.43923243e-07],\n",
       "        ...,\n",
       "        [1.94531993e-08, 1.46537194e-07, 6.43655825e-07, ...,\n",
       "         7.00215594e-07, 5.29726614e-07, 2.26503780e-07],\n",
       "        [3.17538786e-09, 1.43732370e-07, 6.36353096e-07, ...,\n",
       "         5.47863432e-07, 4.37969261e-07, 1.80409651e-07],\n",
       "        [4.08955515e-09, 1.56328288e-07, 6.00680788e-07, ...,\n",
       "         6.34063995e-07, 4.48015777e-07, 1.62883271e-07]],\n",
       "\n",
       "       [[5.78558987e-09, 1.64990186e-07, 5.38057591e-07, ...,\n",
       "         8.94288398e-07, 5.38220276e-07, 1.65147917e-07],\n",
       "        [4.19879201e-09, 1.67460855e-07, 4.60894887e-07, ...,\n",
       "         1.14420231e-06, 6.18340601e-07, 1.61039465e-07],\n",
       "        [3.24066790e-09, 1.85489453e-07, 4.50554549e-07, ...,\n",
       "         1.28852722e-06, 6.55129969e-07, 1.48089295e-07],\n",
       "        ...,\n",
       "        [2.00162982e-08, 1.50778910e-07, 6.62287306e-07, ...,\n",
       "         7.20484273e-07, 5.45060262e-07, 2.33060236e-07],\n",
       "        [3.26730372e-09, 1.47892896e-07, 6.54773190e-07, ...,\n",
       "         5.63722074e-07, 4.50646868e-07, 1.85631851e-07],\n",
       "        [4.20793280e-09, 1.60853420e-07, 6.18068299e-07, ...,\n",
       "         6.52417828e-07, 4.60984195e-07, 1.67598146e-07]],\n",
       "\n",
       "       [[5.54423649e-09, 1.58107406e-07, 5.15611821e-07, ...,\n",
       "         8.56981998e-07, 5.15767719e-07, 1.58258557e-07],\n",
       "        [4.02363396e-09, 1.60475008e-07, 4.41668059e-07, ...,\n",
       "         1.09647042e-06, 5.92545720e-07, 1.54321495e-07],\n",
       "        [3.10547924e-09, 1.77751520e-07, 4.31759081e-07, ...,\n",
       "         1.23477463e-06, 6.27800373e-07, 1.41911558e-07],\n",
       "        ...,\n",
       "        [1.91812924e-08, 1.44488972e-07, 6.34659132e-07, ...,\n",
       "         6.90428337e-07, 5.22322366e-07, 2.23337826e-07],\n",
       "        [3.13100391e-09, 1.41723352e-07, 6.27458477e-07, ...,\n",
       "         5.40205677e-07, 4.31847550e-07, 1.77887977e-07],\n",
       "        [4.03239343e-09, 1.54143211e-07, 5.92284779e-07, ...,\n",
       "         6.25201372e-07, 4.41753641e-07, 1.60606572e-07]]])"
      ]
     },
     "execution_count": 476,
     "metadata": {},
     "output_type": "execute_result"
    }
   ],
   "source": [
    "psf_rgb"
   ]
  },
  {
   "cell_type": "code",
   "execution_count": 477,
   "metadata": {},
   "outputs": [
    {
     "data": {
      "text/plain": [
       "array([[[5.62282953e-09, 1.60348678e-07, 5.22920943e-07, ...,\n",
       "         8.69130257e-07, 5.23079051e-07, 1.60501972e-07],\n",
       "        [4.08067150e-09, 1.62749842e-07, 4.47928981e-07, ...,\n",
       "         1.11201358e-06, 6.00945429e-07, 1.56509100e-07],\n",
       "        [3.14950136e-09, 1.80271260e-07, 4.37879538e-07, ...,\n",
       "         1.25227834e-06, 6.36699838e-07, 1.43923243e-07],\n",
       "        ...,\n",
       "        [1.94531993e-08, 1.46537194e-07, 6.43655825e-07, ...,\n",
       "         7.00215594e-07, 5.29726614e-07, 2.26503780e-07],\n",
       "        [3.17538786e-09, 1.43732370e-07, 6.36353096e-07, ...,\n",
       "         5.47863432e-07, 4.37969261e-07, 1.80409651e-07],\n",
       "        [4.08955515e-09, 1.56328288e-07, 6.00680788e-07, ...,\n",
       "         6.34063995e-07, 4.48015777e-07, 1.62883271e-07]],\n",
       "\n",
       "       [[5.78558987e-09, 1.64990186e-07, 5.38057591e-07, ...,\n",
       "         8.94288398e-07, 5.38220276e-07, 1.65147917e-07],\n",
       "        [4.19879201e-09, 1.67460855e-07, 4.60894887e-07, ...,\n",
       "         1.14420231e-06, 6.18340601e-07, 1.61039465e-07],\n",
       "        [3.24066790e-09, 1.85489453e-07, 4.50554549e-07, ...,\n",
       "         1.28852722e-06, 6.55129969e-07, 1.48089295e-07],\n",
       "        ...,\n",
       "        [2.00162982e-08, 1.50778910e-07, 6.62287306e-07, ...,\n",
       "         7.20484273e-07, 5.45060262e-07, 2.33060236e-07],\n",
       "        [3.26730372e-09, 1.47892896e-07, 6.54773190e-07, ...,\n",
       "         5.63722074e-07, 4.50646868e-07, 1.85631851e-07],\n",
       "        [4.20793280e-09, 1.60853420e-07, 6.18068299e-07, ...,\n",
       "         6.52417828e-07, 4.60984195e-07, 1.67598146e-07]],\n",
       "\n",
       "       [[5.54423649e-09, 1.58107406e-07, 5.15611821e-07, ...,\n",
       "         8.56981998e-07, 5.15767719e-07, 1.58258557e-07],\n",
       "        [4.02363396e-09, 1.60475008e-07, 4.41668059e-07, ...,\n",
       "         1.09647042e-06, 5.92545720e-07, 1.54321495e-07],\n",
       "        [3.10547924e-09, 1.77751520e-07, 4.31759081e-07, ...,\n",
       "         1.23477463e-06, 6.27800373e-07, 1.41911558e-07],\n",
       "        ...,\n",
       "        [1.91812924e-08, 1.44488972e-07, 6.34659132e-07, ...,\n",
       "         6.90428337e-07, 5.22322366e-07, 2.23337826e-07],\n",
       "        [3.13100391e-09, 1.41723352e-07, 6.27458477e-07, ...,\n",
       "         5.40205677e-07, 4.31847550e-07, 1.77887977e-07],\n",
       "        [4.03239343e-09, 1.54143211e-07, 5.92284779e-07, ...,\n",
       "         6.25201372e-07, 4.41753641e-07, 1.60606572e-07]]])"
      ]
     },
     "execution_count": 477,
     "metadata": {},
     "output_type": "execute_result"
    }
   ],
   "source": [
    "psf_rgb"
   ]
  },
  {
   "cell_type": "code",
   "execution_count": 478,
   "metadata": {},
   "outputs": [
    {
     "data": {
      "text/plain": [
       "array([[1.69526559e-08, 4.83446271e-07, 1.57659036e-06, ...,\n",
       "        2.62040065e-06, 1.57706705e-06, 4.83908446e-07],\n",
       "       [1.23030975e-08, 4.90685705e-07, 1.35049193e-06, ...,\n",
       "        3.35268631e-06, 1.81183175e-06, 4.71870060e-07],\n",
       "       [9.49564850e-09, 5.43512232e-07, 1.32019317e-06, ...,\n",
       "        3.77558020e-06, 1.91963018e-06, 4.33924096e-07],\n",
       "       ...,\n",
       "       [5.86507899e-08, 4.41805075e-07, 1.94060226e-06, ...,\n",
       "        2.11112820e-06, 1.59710924e-06, 6.82901842e-07],\n",
       "       [9.57369548e-09, 4.33348617e-07, 1.91858476e-06, ...,\n",
       "        1.65179118e-06, 1.32046368e-06, 5.43929479e-07],\n",
       "       [1.23298814e-08, 4.71324918e-07, 1.81103387e-06, ...,\n",
       "        1.91168320e-06, 1.35075361e-06, 4.91087990e-07]])"
      ]
     },
     "execution_count": 478,
     "metadata": {},
     "output_type": "execute_result"
    }
   ],
   "source": [
    "psf_rgb.sum(axis=0)"
   ]
  },
  {
   "cell_type": "code",
   "execution_count": 479,
   "metadata": {},
   "outputs": [
    {
     "data": {
      "text/plain": [
       "<matplotlib.colorbar.Colorbar at 0x7f98da817be0>"
      ]
     },
     "execution_count": 479,
     "metadata": {},
     "output_type": "execute_result"
    },
    {
     "data": {
      "image/png": "[encoded data removed]",
      "text/plain": [
       "<Figure size 720x720 with 2 Axes>"
      ]
     },
     "metadata": {
      "needs_background": "light"
     },
     "output_type": "display_data"
    }
   ],
   "source": [
    "plt.figure(figsize=(10,10))\n",
    "plt.imshow(np.transpose(psf_rgb, (1, 2, 0)))\n",
    "plt.colorbar()"
   ]
  },
  {
   "cell_type": "code",
   "execution_count": null,
   "metadata": {},
   "outputs": [],
   "source": []
  }
 ],
 "metadata": {
  "kernelspec": {
   "display_name": "Python 3",
   "language": "python",
   "name": "python3"
  },
  "language_info": {
   "codemirror_mode": {
    "name": "ipython",
    "version": 3
   },
   "file_extension": ".py",
   "mimetype": "text/x-python",
   "name": "python",
   "nbconvert_exporter": "python",
   "pygments_lexer": "ipython3",
   "version": "3.9.1"
  }
 },
 "nbformat": 4,
 "nbformat_minor": 4
}
